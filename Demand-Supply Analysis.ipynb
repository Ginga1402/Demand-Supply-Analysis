{
 "cells": [
  {
   "cell_type": "code",
   "execution_count": 2,
   "id": "ad5c2ba0",
   "metadata": {},
   "outputs": [],
   "source": [
    "#importing necessary libraries for analysis. \n",
    "import numpy as np\n",
    "import pandas as pd\n",
    "import matplotlib.pyplot as plt\n",
    "import seaborn as sns"
   ]
  },
  {
   "cell_type": "code",
   "execution_count": 3,
   "id": "b0fa94e9",
   "metadata": {},
   "outputs": [],
   "source": [
    "# loading the dataset as data\n",
    "data = pd.read_csv(\"rides.csv\")"
   ]
  },
  {
   "cell_type": "code",
   "execution_count": 4,
   "id": "4da0bf63",
   "metadata": {},
   "outputs": [
    {
     "data": {
      "text/html": [
       "<div>\n",
       "<style scoped>\n",
       "    .dataframe tbody tr th:only-of-type {\n",
       "        vertical-align: middle;\n",
       "    }\n",
       "\n",
       "    .dataframe tbody tr th {\n",
       "        vertical-align: top;\n",
       "    }\n",
       "\n",
       "    .dataframe thead th {\n",
       "        text-align: right;\n",
       "    }\n",
       "</style>\n",
       "<table border=\"1\" class=\"dataframe\">\n",
       "  <thead>\n",
       "    <tr style=\"text-align: right;\">\n",
       "      <th></th>\n",
       "      <th>Drivers Active Per Hour</th>\n",
       "      <th>Riders Active Per Hour</th>\n",
       "      <th>Rides Completed</th>\n",
       "    </tr>\n",
       "  </thead>\n",
       "  <tbody>\n",
       "    <tr>\n",
       "      <th>0</th>\n",
       "      <td>72</td>\n",
       "      <td>295</td>\n",
       "      <td>202.0</td>\n",
       "    </tr>\n",
       "    <tr>\n",
       "      <th>1</th>\n",
       "      <td>50</td>\n",
       "      <td>78</td>\n",
       "      <td>43.0</td>\n",
       "    </tr>\n",
       "    <tr>\n",
       "      <th>2</th>\n",
       "      <td>40</td>\n",
       "      <td>250</td>\n",
       "      <td>181.0</td>\n",
       "    </tr>\n",
       "    <tr>\n",
       "      <th>3</th>\n",
       "      <td>78</td>\n",
       "      <td>140</td>\n",
       "      <td>124.0</td>\n",
       "    </tr>\n",
       "    <tr>\n",
       "      <th>4</th>\n",
       "      <td>74</td>\n",
       "      <td>195</td>\n",
       "      <td>108.0</td>\n",
       "    </tr>\n",
       "  </tbody>\n",
       "</table>\n",
       "</div>"
      ],
      "text/plain": [
       "   Drivers Active Per Hour  Riders Active Per Hour  Rides Completed\n",
       "0                       72                     295            202.0\n",
       "1                       50                      78             43.0\n",
       "2                       40                     250            181.0\n",
       "3                       78                     140            124.0\n",
       "4                       74                     195            108.0"
      ]
     },
     "execution_count": 4,
     "metadata": {},
     "output_type": "execute_result"
    }
   ],
   "source": [
    "# getting top 5 of the dataset \n",
    "data.head()"
   ]
  },
  {
   "cell_type": "code",
   "execution_count": 5,
   "id": "dbede33d",
   "metadata": {},
   "outputs": [
    {
     "data": {
      "text/html": [
       "<div>\n",
       "<style scoped>\n",
       "    .dataframe tbody tr th:only-of-type {\n",
       "        vertical-align: middle;\n",
       "    }\n",
       "\n",
       "    .dataframe tbody tr th {\n",
       "        vertical-align: top;\n",
       "    }\n",
       "\n",
       "    .dataframe thead th {\n",
       "        text-align: right;\n",
       "    }\n",
       "</style>\n",
       "<table border=\"1\" class=\"dataframe\">\n",
       "  <thead>\n",
       "    <tr style=\"text-align: right;\">\n",
       "      <th></th>\n",
       "      <th>Drivers Active Per Hour</th>\n",
       "      <th>Riders Active Per Hour</th>\n",
       "      <th>Rides Completed</th>\n",
       "    </tr>\n",
       "  </thead>\n",
       "  <tbody>\n",
       "    <tr>\n",
       "      <th>1094</th>\n",
       "      <td>55</td>\n",
       "      <td>170</td>\n",
       "      <td>144.0</td>\n",
       "    </tr>\n",
       "    <tr>\n",
       "      <th>1095</th>\n",
       "      <td>99</td>\n",
       "      <td>141</td>\n",
       "      <td>117.0</td>\n",
       "    </tr>\n",
       "    <tr>\n",
       "      <th>1096</th>\n",
       "      <td>43</td>\n",
       "      <td>82</td>\n",
       "      <td>64.0</td>\n",
       "    </tr>\n",
       "    <tr>\n",
       "      <th>1097</th>\n",
       "      <td>35</td>\n",
       "      <td>127</td>\n",
       "      <td>90.0</td>\n",
       "    </tr>\n",
       "    <tr>\n",
       "      <th>1098</th>\n",
       "      <td>32</td>\n",
       "      <td>81</td>\n",
       "      <td>60.0</td>\n",
       "    </tr>\n",
       "  </tbody>\n",
       "</table>\n",
       "</div>"
      ],
      "text/plain": [
       "      Drivers Active Per Hour  Riders Active Per Hour  Rides Completed\n",
       "1094                       55                     170            144.0\n",
       "1095                       99                     141            117.0\n",
       "1096                       43                      82             64.0\n",
       "1097                       35                     127             90.0\n",
       "1098                       32                      81             60.0"
      ]
     },
     "execution_count": 5,
     "metadata": {},
     "output_type": "execute_result"
    }
   ],
   "source": [
    "# getting bottom 5 of the dataset\n",
    "data.tail()"
   ]
  },
  {
   "cell_type": "code",
   "execution_count": 6,
   "id": "88511dbc",
   "metadata": {},
   "outputs": [
    {
     "name": "stdout",
     "output_type": "stream",
     "text": [
      "<class 'pandas.core.frame.DataFrame'>\n",
      "RangeIndex: 1099 entries, 0 to 1098\n",
      "Data columns (total 3 columns):\n",
      " #   Column                   Non-Null Count  Dtype  \n",
      "---  ------                   --------------  -----  \n",
      " 0   Drivers Active Per Hour  1099 non-null   int64  \n",
      " 1   Riders Active Per Hour   1099 non-null   int64  \n",
      " 2   Rides Completed          1045 non-null   float64\n",
      "dtypes: float64(1), int64(2)\n",
      "memory usage: 25.9 KB\n"
     ]
    }
   ],
   "source": [
    "# General Info of the dataset\n",
    "data.info()"
   ]
  },
  {
   "cell_type": "markdown",
   "id": "2214956e",
   "metadata": {},
   "source": [
    "#### The dataset consists of 1099 records and 3 features. All the Features in the dataset are of Numeric DataType."
   ]
  },
  {
   "cell_type": "code",
   "execution_count": 7,
   "id": "b6c6a80e",
   "metadata": {},
   "outputs": [
    {
     "data": {
      "text/html": [
       "<div>\n",
       "<style scoped>\n",
       "    .dataframe tbody tr th:only-of-type {\n",
       "        vertical-align: middle;\n",
       "    }\n",
       "\n",
       "    .dataframe tbody tr th {\n",
       "        vertical-align: top;\n",
       "    }\n",
       "\n",
       "    .dataframe thead th {\n",
       "        text-align: right;\n",
       "    }\n",
       "</style>\n",
       "<table border=\"1\" class=\"dataframe\">\n",
       "  <thead>\n",
       "    <tr style=\"text-align: right;\">\n",
       "      <th></th>\n",
       "      <th>Drivers Active Per Hour</th>\n",
       "      <th>Riders Active Per Hour</th>\n",
       "      <th>Rides Completed</th>\n",
       "    </tr>\n",
       "  </thead>\n",
       "  <tbody>\n",
       "    <tr>\n",
       "      <th>count</th>\n",
       "      <td>1099.000000</td>\n",
       "      <td>1099.000000</td>\n",
       "      <td>1045.000000</td>\n",
       "    </tr>\n",
       "    <tr>\n",
       "      <th>mean</th>\n",
       "      <td>55.212921</td>\n",
       "      <td>175.372157</td>\n",
       "      <td>107.470813</td>\n",
       "    </tr>\n",
       "    <tr>\n",
       "      <th>std</th>\n",
       "      <td>25.896744</td>\n",
       "      <td>72.304222</td>\n",
       "      <td>57.340921</td>\n",
       "    </tr>\n",
       "    <tr>\n",
       "      <th>min</th>\n",
       "      <td>10.000000</td>\n",
       "      <td>50.000000</td>\n",
       "      <td>2.000000</td>\n",
       "    </tr>\n",
       "    <tr>\n",
       "      <th>25%</th>\n",
       "      <td>34.000000</td>\n",
       "      <td>114.000000</td>\n",
       "      <td>66.000000</td>\n",
       "    </tr>\n",
       "    <tr>\n",
       "      <th>50%</th>\n",
       "      <td>55.000000</td>\n",
       "      <td>174.000000</td>\n",
       "      <td>96.000000</td>\n",
       "    </tr>\n",
       "    <tr>\n",
       "      <th>75%</th>\n",
       "      <td>78.000000</td>\n",
       "      <td>238.000000</td>\n",
       "      <td>142.000000</td>\n",
       "    </tr>\n",
       "    <tr>\n",
       "      <th>max</th>\n",
       "      <td>100.000000</td>\n",
       "      <td>300.000000</td>\n",
       "      <td>273.000000</td>\n",
       "    </tr>\n",
       "  </tbody>\n",
       "</table>\n",
       "</div>"
      ],
      "text/plain": [
       "       Drivers Active Per Hour  Riders Active Per Hour  Rides Completed\n",
       "count              1099.000000             1099.000000      1045.000000\n",
       "mean                 55.212921              175.372157       107.470813\n",
       "std                  25.896744               72.304222        57.340921\n",
       "min                  10.000000               50.000000         2.000000\n",
       "25%                  34.000000              114.000000        66.000000\n",
       "50%                  55.000000              174.000000        96.000000\n",
       "75%                  78.000000              238.000000       142.000000\n",
       "max                 100.000000              300.000000       273.000000"
      ]
     },
     "execution_count": 7,
     "metadata": {},
     "output_type": "execute_result"
    }
   ],
   "source": [
    "# Descriptive Statistics of the data.\n",
    "data.describe()"
   ]
  },
  {
   "cell_type": "code",
   "execution_count": 8,
   "id": "78fa7d14",
   "metadata": {},
   "outputs": [
    {
     "data": {
      "text/plain": [
       "Drivers Active Per Hour     0\n",
       "Riders Active Per Hour      0\n",
       "Rides Completed            54\n",
       "dtype: int64"
      ]
     },
     "execution_count": 8,
     "metadata": {},
     "output_type": "execute_result"
    }
   ],
   "source": [
    "# Checking for null values \n",
    "data.isnull().sum()"
   ]
  },
  {
   "cell_type": "markdown",
   "id": "47bc90d5",
   "metadata": {},
   "source": [
    "#### Null values are present in Rides Completed."
   ]
  },
  {
   "cell_type": "code",
   "execution_count": 9,
   "id": "0f23d27d",
   "metadata": {},
   "outputs": [
    {
     "data": {
      "text/plain": [
       "Drivers Active Per Hour    0.000000\n",
       "Riders Active Per Hour     0.000000\n",
       "Rides Completed            0.049136\n",
       "dtype: float64"
      ]
     },
     "execution_count": 9,
     "metadata": {},
     "output_type": "execute_result"
    }
   ],
   "source": [
    "#The weightage of null values w.r.t data\n",
    "data.isnull().sum()/len(data)"
   ]
  },
  {
   "cell_type": "markdown",
   "id": "2343372c",
   "metadata": {},
   "source": [
    "#### Since the Null values consists in less than 0.5% of the data, we can drop them since it will not make any impact on our analysis."
   ]
  },
  {
   "cell_type": "code",
   "execution_count": 10,
   "id": "b2b8ecda",
   "metadata": {},
   "outputs": [],
   "source": [
    "# dropping null Values.\n",
    "data = data.dropna()"
   ]
  },
  {
   "cell_type": "code",
   "execution_count": 11,
   "id": "fa4d9daf",
   "metadata": {},
   "outputs": [
    {
     "name": "stdout",
     "output_type": "stream",
     "text": [
      "<class 'pandas.core.frame.DataFrame'>\n",
      "Int64Index: 1045 entries, 0 to 1098\n",
      "Data columns (total 3 columns):\n",
      " #   Column                   Non-Null Count  Dtype  \n",
      "---  ------                   --------------  -----  \n",
      " 0   Drivers Active Per Hour  1045 non-null   int64  \n",
      " 1   Riders Active Per Hour   1045 non-null   int64  \n",
      " 2   Rides Completed          1045 non-null   float64\n",
      "dtypes: float64(1), int64(2)\n",
      "memory usage: 32.7 KB\n"
     ]
    }
   ],
   "source": [
    "# Info of data after dropping null values\n",
    "data.info()"
   ]
  },
  {
   "cell_type": "markdown",
   "id": "702dc122",
   "metadata": {},
   "source": [
    "### Visual Analysis of relationship between the number of drivers active per hour and the number of riders active per hour:"
   ]
  },
  {
   "cell_type": "code",
   "execution_count": 12,
   "id": "6f552e1d",
   "metadata": {},
   "outputs": [
    {
     "data": {
      "image/png": "[encoded data removed]",
      "text/plain": [
       "<Figure size 648x648 with 1 Axes>"
      ]
     },
     "metadata": {
      "needs_background": "light"
     },
     "output_type": "display_data"
    }
   ],
   "source": [
    "# defining demand and supply\n",
    "demand = data[\"Riders Active Per Hour\"]\n",
    "supply = data[\"Drivers Active Per Hour\"]\n",
    "# plotting a scatter plot and a trendline.\n",
    "\n",
    "plt.figure(figsize=(9,9))\n",
    "plt.ylabel(\" Number of Rider's active/Hour(Qty.Demand)\")\n",
    "plt.xlabel(\"Number of Driver's active/Hour(Qty.Supply)\")\n",
    "plt.title(\"Relationship between Driver's & Rider's active per hour.\")\n",
    "plt.scatter(data[\"Drivers Active Per Hour\"], data[\"Riders Active Per Hour\"],c = \"yellow\")\n",
    "# finding the equation for Trendline \n",
    "z = np.polyfit(data[\"Drivers Active Per Hour\"], data[\"Riders Active Per Hour\"],1)\n",
    "p = np.poly1d(z)\n",
    "plt.plot(data[\"Drivers Active Per Hour\"],p(data[\"Drivers Active Per Hour\"]),\"r--\")\n",
    "plt.show()"
   ]
  },
  {
   "cell_type": "markdown",
   "id": "26eed022",
   "metadata": {},
   "source": [
    "## Calculating Elasticity of Demand "
   ]
  },
  {
   "cell_type": "code",
   "execution_count": 13,
   "id": "3434c176",
   "metadata": {},
   "outputs": [
    {
     "name": "stdout",
     "output_type": "stream",
     "text": [
      "average_demand:  181.0688995215311\n",
      "average_supply:  53.70909090909091\n"
     ]
    }
   ],
   "source": [
    "# finding average demand and supply. \n",
    "average_demand = data[\"Riders Active Per Hour\"].mean()\n",
    "average_supply = data[\"Drivers Active Per Hour\"].mean()\n",
    "print(\"average_demand: \",average_demand)\n",
    "print(\"average_supply: \",average_supply)"
   ]
  },
  {
   "cell_type": "code",
   "execution_count": 14,
   "id": "46446d1c",
   "metadata": {},
   "outputs": [
    {
     "name": "stdout",
     "output_type": "stream",
     "text": [
      "delta_demand:  138.0689895728185\n",
      "delta_supply:  167.56939742721733\n"
     ]
    }
   ],
   "source": [
    "# Defining the constraints for elasticity of Demand. \n",
    "delta_demand = (max(data[\"Riders Active Per Hour\"]) - min(data[\"Riders Active Per Hour\"])) / average_demand * 100\n",
    "delta_supply = (max(data[\"Drivers Active Per Hour\"]) - min(data[\"Drivers Active Per Hour\"])) / average_supply * 100\n",
    "print(\"delta_demand: \",delta_demand)\n",
    "print(\"delta_supply: \",delta_supply)"
   ]
  },
  {
   "cell_type": "code",
   "execution_count": 15,
   "id": "55511632",
   "metadata": {},
   "outputs": [],
   "source": [
    "elasticity = delta_demand/delta_supply"
   ]
  },
  {
   "cell_type": "code",
   "execution_count": 16,
   "id": "a15aaa8f",
   "metadata": {},
   "outputs": [
    {
     "name": "stdout",
     "output_type": "stream",
     "text": [
      "The Elasticity of Demand(Riders Active Per Hour) w.r.t Supply(Drivers Active Per Hour) is  0.8239511014103149\n"
     ]
    }
   ],
   "source": [
    "print(\"The Elasticity of Demand(Riders Active Per Hour) w.r.t Supply(Drivers Active Per Hour) is \",elasticity)"
   ]
  },
  {
   "cell_type": "markdown",
   "id": "87effcec",
   "metadata": {},
   "source": [
    "#### This signifies a moderate relationship between the demand for rides and the number of active drivers per hour. This means that if the number of drivers increase by 1% it leads to descrease the demand by 0.82%"
   ]
  },
  {
   "cell_type": "markdown",
   "id": "984a41b9",
   "metadata": {},
   "source": [
    "#### The elasticity shows that the demand for rides is somewhat sensitive to changes in the number of active drivers per hour."
   ]
  },
  {
   "cell_type": "markdown",
   "id": "95f51a59",
   "metadata": {},
   "source": [
    "## Calculating Supply ratio for each Driver's Activity"
   ]
  },
  {
   "cell_type": "code",
   "execution_count": 22,
   "id": "9b0155c7",
   "metadata": {},
   "outputs": [],
   "source": [
    "# Finding Supply Ratio.\n",
    "data[\"Supply_Ratio\"] = data[\"Rides Completed\"]/ data[\"Drivers Active Per Hour\"]"
   ]
  },
  {
   "cell_type": "code",
   "execution_count": 18,
   "id": "536a889a",
   "metadata": {},
   "outputs": [
    {
     "data": {
      "text/html": [
       "<div>\n",
       "<style scoped>\n",
       "    .dataframe tbody tr th:only-of-type {\n",
       "        vertical-align: middle;\n",
       "    }\n",
       "\n",
       "    .dataframe tbody tr th {\n",
       "        vertical-align: top;\n",
       "    }\n",
       "\n",
       "    .dataframe thead th {\n",
       "        text-align: right;\n",
       "    }\n",
       "</style>\n",
       "<table border=\"1\" class=\"dataframe\">\n",
       "  <thead>\n",
       "    <tr style=\"text-align: right;\">\n",
       "      <th></th>\n",
       "      <th>Drivers Active Per Hour</th>\n",
       "      <th>Riders Active Per Hour</th>\n",
       "      <th>Rides Completed</th>\n",
       "      <th>Supply_Ratio</th>\n",
       "    </tr>\n",
       "  </thead>\n",
       "  <tbody>\n",
       "    <tr>\n",
       "      <th>0</th>\n",
       "      <td>72</td>\n",
       "      <td>295</td>\n",
       "      <td>202.0</td>\n",
       "      <td>2.805556</td>\n",
       "    </tr>\n",
       "    <tr>\n",
       "      <th>1</th>\n",
       "      <td>50</td>\n",
       "      <td>78</td>\n",
       "      <td>43.0</td>\n",
       "      <td>0.860000</td>\n",
       "    </tr>\n",
       "    <tr>\n",
       "      <th>2</th>\n",
       "      <td>40</td>\n",
       "      <td>250</td>\n",
       "      <td>181.0</td>\n",
       "      <td>4.525000</td>\n",
       "    </tr>\n",
       "    <tr>\n",
       "      <th>3</th>\n",
       "      <td>78</td>\n",
       "      <td>140</td>\n",
       "      <td>124.0</td>\n",
       "      <td>1.589744</td>\n",
       "    </tr>\n",
       "    <tr>\n",
       "      <th>4</th>\n",
       "      <td>74</td>\n",
       "      <td>195</td>\n",
       "      <td>108.0</td>\n",
       "      <td>1.459459</td>\n",
       "    </tr>\n",
       "  </tbody>\n",
       "</table>\n",
       "</div>"
      ],
      "text/plain": [
       "   Drivers Active Per Hour  Riders Active Per Hour  Rides Completed  \\\n",
       "0                       72                     295            202.0   \n",
       "1                       50                      78             43.0   \n",
       "2                       40                     250            181.0   \n",
       "3                       78                     140            124.0   \n",
       "4                       74                     195            108.0   \n",
       "\n",
       "   Supply_Ratio  \n",
       "0      2.805556  \n",
       "1      0.860000  \n",
       "2      4.525000  \n",
       "3      1.589744  \n",
       "4      1.459459  "
      ]
     },
     "execution_count": 18,
     "metadata": {},
     "output_type": "execute_result"
    }
   ],
   "source": [
    "data.head()"
   ]
  },
  {
   "cell_type": "markdown",
   "id": "c14821fd",
   "metadata": {},
   "source": [
    "## Visualizing Supply Ratio with respect to Driver's Activity"
   ]
  },
  {
   "cell_type": "code",
   "execution_count": 21,
   "id": "30902745",
   "metadata": {},
   "outputs": [
    {
     "data": {
      "image/png": "[encoded data removed]",
      "text/plain": [
       "<Figure size 648x648 with 1 Axes>"
      ]
     },
     "metadata": {
      "needs_background": "light"
     },
     "output_type": "display_data"
    }
   ],
   "source": [
    "# defining supply ratio and driver's activity\n",
    "Drivers_ratio= data[\"Drivers Active Per Hour\"]\n",
    "supply_ratio= data[\"Supply_Ratio\"]\n",
    "# plotting a scatter plot.\n",
    "\n",
    "plt.figure(figsize=(9,9))\n",
    "plt.ylabel(\" Supply Ratio \")\n",
    "plt.xlabel(\"Driver's Activity\")\n",
    "plt.title(\"Relationship between Driver's Activity and Supply Ratio\")\n",
    "plt.scatter(Drivers_ratio, supply_ratio,c = \"indigo\")\n",
    "plt.show()"
   ]
  },
  {
   "cell_type": "markdown",
   "id": "50b6a95a",
   "metadata": {},
   "source": [
    "## The graph display's the ratio of the number of drivers active per hour and the number of rides completed in an hour."
   ]
  },
  {
   "cell_type": "code",
   "execution_count": null,
   "id": "4dc97ba9",
   "metadata": {},
   "outputs": [],
   "source": []
  }
 ],
 "metadata": {
  "kernelspec": {
   "display_name": "Python 3 (ipykernel)",
   "language": "python",
   "name": "python3"
  },
  "language_info": {
   "codemirror_mode": {
    "name": "ipython",
    "version": 3
   },
   "file_extension": ".py",
   "mimetype": "text/x-python",
   "name": "python",
   "nbconvert_exporter": "python",
   "pygments_lexer": "ipython3",
   "version": "3.11.3"
  }
 },
 "nbformat": 4,
 "nbformat_minor": 5
}
